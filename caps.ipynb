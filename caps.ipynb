{
 "cells": [
  {
   "cell_type": "code",
   "execution_count": 1,
   "id": "351b8bb9",
   "metadata": {},
   "outputs": [],
   "source": [
    "from selenium import webdriver\n",
    "from selenium.webdriver.chrome.options import Options\n",
    "from selenium.webdriver.chrome.service import Service\n",
    "from webdriver_manager.chrome import ChromeDriverManager\n",
    "from bs4 import BeautifulSoup\n",
    "import time"
   ]
  },
  {
   "cell_type": "code",
   "execution_count": 2,
   "id": "533e68a5",
   "metadata": {},
   "outputs": [],
   "source": [
    "import requests"
   ]
  },
  {
   "cell_type": "code",
   "execution_count": 3,
   "id": "cc0314d3",
   "metadata": {},
   "outputs": [],
   "source": [
    "url =\"https://www.flipkart.com/search?q=earbuds+wire+and+wireless&otracker=search&otracker1=search&marketplace=FLIPKART&as-show=on&as=off&p%5B%5D=facets.headphone_type%255B%255D%3DTrue%2BWireless\""
   ]
  },
  {
   "cell_type": "code",
   "execution_count": 4,
   "id": "a9ee304c",
   "metadata": {},
   "outputs": [],
   "source": [
    "r = requests.get(url)"
   ]
  },
  {
   "cell_type": "code",
   "execution_count": 5,
   "id": "936c0402",
   "metadata": {},
   "outputs": [
    {
     "name": "stdout",
     "output_type": "stream",
     "text": [
      "<Response [429]>\n"
     ]
    }
   ],
   "source": [
    "print(r)"
   ]
  },
  {
   "cell_type": "code",
   "execution_count": 6,
   "id": "44744c3c",
   "metadata": {},
   "outputs": [],
   "source": [
    "options= Options()\n",
    "service = Service(ChromeDriverManager().install())\n",
    "driver = webdriver.Chrome(service=service, options=options)\n",
    "options.add_argument(\"--window-size=1920,1800\")\n",
    "options.add_argument(\"--headless\")\n",
    "driver.get(url)"
   ]
  },
  {
   "cell_type": "code",
   "execution_count": 7,
   "id": "da51b24b",
   "metadata": {},
   "outputs": [],
   "source": [
    "soup = BeautifulSoup(driver.page_source ,\"html.parser\")"
   ]
  },
  {
   "cell_type": "code",
   "execution_count": 10,
   "id": "8ce858a8",
   "metadata": {},
   "outputs": [],
   "source": [
    "a = soup.find_all(\"a\",class_=\"wjcEIp\")\n"
   ]
  },
  {
   "cell_type": "code",
   "execution_count": 14,
   "id": "37fecf10",
   "metadata": {},
   "outputs": [],
   "source": [
    "b = soup.find_all(\"div\",class_=\"XQDdHH\") \n",
    "c = soup.find_all(\"span\",class_=\"Wphh3N\") \n",
    "d = soup.find_all(\"div\",class_=\"Nx9bqj\")   \n",
    "e = soup.find_all(\"div\", class_=\"UkUFwK\")"
   ]
  },
  {
   "cell_type": "code",
   "execution_count": 11,
   "id": "53de7615",
   "metadata": {},
   "outputs": [
    {
     "name": "stdout",
     "output_type": "stream",
     "text": [
      "TRIGGR Ultrabuds N4 with Premium Finish, Rubber Grip De...\n",
      "TRIGGR Ultrabuds N4 with Premium Finish, Rubber Grip De...\n",
      "voy Transparent Earbuds/TWS/buds Calling earbuds ASAP C...\n",
      "RECTITUDE P47 BEST QUALITY FOLDABLE HEADPHONE BLUETOOTH...\n",
      "AIRWILLS Bluetooth Wireless Ultradopes Buds Bluetooth V...\n",
      "TRIGGR Ultrabuds N5 with Latest BT v6.0, 40Hr Playtime,...\n",
      "e grow TWS Wireless Earbuds with Deep Bass Touch Contro...\n",
      "Campher Premium Wireless Earbuds Bluetooth Headset with...\n",
      "NECKTECH Hear in 2 Bluetooth & Wired\n",
      "Smartbeats TWS Smart buds with Cable Charging Case for ...\n",
      "BjOrk BB-151 TWS In-Ear Wireless Earphones Stereo Bass ...\n",
      "HOPPUP AirDoze S40 Earbuds with 13MM Drivers, 40H Playt...\n",
      "Modorwy Ultrapod Pro Earbud with Touch Control & 20 Hrs...\n",
      "ZTNY X38 TWS In-Ear Earbuds Wireless Earphones Stereo B...\n",
      "Cellecor BroPods CB44 TWS With 35 Hours Playtime, ENC, ...\n",
      "Smartbeats SmartPods EarbudsPro2 TWS with Cable Chargin...\n",
      "ModishOmbre Vibex 100 hr Backup|Quad Mic Clear Calls|13...\n",
      "BLEAT -Bass,80H battery,Touch,ENC/ANC,Waterproof,Fast c...\n",
      "TECHIO Airdopes 300 Wireless Earbuds with 40H Playtime ...\n",
      "Cellecor BroPods C107 GLOSS TWS with 40H Playtime, ENC,...\n",
      "TXOR EARBUDS, IN-EAR v5.3 Bluetooth\n",
      "DUJE Wireless Aerpods With Mic Stereo Max Bass Wireless...\n",
      "house of common True Wireless Earbuds with Dolby Atmos ...\n",
      "NXB Wave-X Bluetooth\n",
      "TWS Powerful Bass, One-Step Pairing, True Wireless, Blu...\n",
      "TWS Wireless Sound Isolating Earbuds with Deep Bass_DC ...\n",
      "Mozu Flexibuds Klear with ENC,Mems Mic,Game Mode,Low La...\n",
      "ModishOmbre SILQ TWS Earbuds with Dual Mic and High sou...\n",
      "TWS Pro-Gaming Audio, Quick Connect, True Wireless, Blu...\n",
      "TWS Stereo Sound, Lightning Pairing, True Wireless, Blu...\n",
      "ModishOmbre Bluetooth V5.3 Unisex Earbuds Touch Control...\n",
      "APES Wireless Bluetooth Bluetooth\n",
      "Glowing Galaxy Wireless Earbuds with 4-in-1 Charging Ca...\n",
      "Glowing Galaxy Wireless Earbuds with 4-in-1 Charging Ca...\n",
      "Glowing Galaxy Wireless Earbuds with 4-in-1 Charging Ca...\n",
      "Glowing Galaxy Wireless Earbuds with 4-in-1 Charging Ca...\n",
      "HODOPHILE Classic A-520 Earbuds/TWs/buds 5.3 Earbuds wi...\n",
      "Walta Elite Dome Wireless Earbuds,Water Resistant,Insta...\n",
      "Glowing Galaxy Wireless Earbuds with 4-in-1 Charging Ca...\n",
      "Glowing Galaxy Wireless Earbuds with 4-in-1 Charging Ca...\n"
     ]
    }
   ],
   "source": [
    "a=soup.find_all(\"a\",class_=\"wjcEIp\")\n",
    "names=[]\n",
    "for i in a:\n",
    "    text = i.get_text().strip()\n",
    "    if text:\n",
    "        names.append(text)\n",
    "    else:\n",
    "        names.append(\"NA\")\n",
    "for i in names:\n",
    "    print(i)"
   ]
  },
  {
   "cell_type": "code",
   "execution_count": 16,
   "id": "286a0cee",
   "metadata": {},
   "outputs": [
    {
     "name": "stdout",
     "output_type": "stream",
     "text": [
      "4\n",
      "4\n",
      "3\n",
      "4\n",
      "3.6\n",
      "3\n",
      "4.1\n",
      "4.3\n",
      "3\n",
      "3.7\n",
      "3.1\n",
      "3.4\n",
      "4.6\n",
      "4\n",
      "3.7\n",
      "3.7\n",
      "2.8\n",
      "4\n",
      "3.8\n",
      "3.4\n",
      "3.4\n"
     ]
    }
   ],
   "source": [
    "rating=[]\n",
    "for i in b:\n",
    "    text = i.get_text().strip()\n",
    "    if text:\n",
    "        rating.append(text)\n",
    "    else:\n",
    "        rating.append(\"NA\")\n",
    "for i in rating:\n",
    "    print(i)"
   ]
  },
  {
   "cell_type": "code",
   "execution_count": 17,
   "id": "184c3ea6",
   "metadata": {},
   "outputs": [
    {
     "name": "stdout",
     "output_type": "stream",
     "text": [
      "(12,035)\n",
      "(12,035)\n",
      "(6)\n",
      "(4,066)\n",
      "(7)\n",
      "(12)\n",
      "(64,384)\n",
      "(4)\n",
      "(4)\n",
      "(390)\n",
      "(7)\n",
      "(29)\n",
      "(14)\n",
      "(5)\n",
      "(3)\n",
      "(59)\n",
      "(5)\n",
      "(201)\n",
      "(38)\n",
      "(14)\n",
      "(12)\n"
     ]
    }
   ],
   "source": [
    "review=[]\n",
    "for i in c:\n",
    "    text = i.get_text().strip()\n",
    "    if text:\n",
    "        review.append(text)\n",
    "    else:\n",
    "        review.append(\"NA\")\n",
    "for i in review:\n",
    "    print(i)"
   ]
  },
  {
   "cell_type": "code",
   "execution_count": 18,
   "id": "1365db94",
   "metadata": {},
   "outputs": [
    {
     "name": "stdout",
     "output_type": "stream",
     "text": [
      "₹699\n",
      "₹799\n",
      "₹499\n",
      "₹715\n",
      "₹289\n",
      "₹599\n",
      "₹570\n",
      "₹281\n",
      "₹284\n",
      "₹783\n",
      "₹589\n",
      "₹599\n",
      "₹390\n",
      "₹769\n",
      "₹749\n",
      "₹761\n",
      "₹1,139\n",
      "₹807\n",
      "₹689\n",
      "₹999\n",
      "₹611\n",
      "₹538\n",
      "₹299\n",
      "₹508\n",
      "₹299\n",
      "₹299\n",
      "₹701\n",
      "₹1,139\n",
      "₹299\n",
      "₹299\n",
      "₹1,139\n",
      "₹1,479\n",
      "₹399\n",
      "₹399\n",
      "₹399\n",
      "₹399\n",
      "₹855\n",
      "₹1,199\n",
      "₹399\n",
      "₹399\n"
     ]
    }
   ],
   "source": [
    "price=[]\n",
    "for i in d:\n",
    "    text = i.get_text().strip()\n",
    "    if text:\n",
    "        price.append(text)\n",
    "    else:\n",
    "        price.append(\"NA\")\n",
    "for i in price:\n",
    "    print(i)"
   ]
  },
  {
   "cell_type": "code",
   "execution_count": 19,
   "id": "985d45d2",
   "metadata": {},
   "outputs": [
    {
     "name": "stdout",
     "output_type": "stream",
     "text": [
      "65% off\n",
      "60% off\n",
      "68% off\n",
      "28% off\n",
      "85% off\n",
      "80% off\n",
      "90% off\n",
      "85% off\n",
      "41% off\n",
      "60% off\n",
      "80% off\n",
      "85% off\n",
      "80% off\n",
      "85% off\n",
      "81% off\n",
      "84% off\n",
      "62% off\n",
      "77% off\n",
      "86% off\n",
      "71% off\n",
      "52% off\n",
      "73% off\n",
      "88% off\n",
      "53% off\n",
      "88% off\n",
      "88% off\n",
      "79% off\n",
      "71% off\n",
      "88% off\n",
      "88% off\n",
      "77% off\n",
      "75% off\n",
      "60% off\n",
      "60% off\n",
      "60% off\n",
      "60% off\n",
      "65% off\n",
      "66% off\n",
      "60% off\n",
      "60% off\n"
     ]
    }
   ],
   "source": [
    "discount=[]\n",
    "for i in e:\n",
    "    text = i.get_text().strip()\n",
    "    if text:\n",
    "        discount.append(text)\n",
    "    else:\n",
    "        discount.append(\"NA\")\n",
    "for i in discount:\n",
    "    print(i)"
   ]
  },
  {
   "cell_type": "code",
   "execution_count": 20,
   "id": "7cb74b9f",
   "metadata": {},
   "outputs": [
    {
     "name": "stdout",
     "output_type": "stream",
     "text": [
      "40\n",
      "21\n",
      "21\n",
      "40\n",
      "40\n"
     ]
    }
   ],
   "source": [
    "print(len(names))\n",
    "print(len(rating))\n",
    "print(len(review))\n",
    "print(len(price))\n",
    "print(len(discount))"
   ]
  },
  {
   "cell_type": "code",
   "execution_count": 13,
   "id": "6a55efab",
   "metadata": {},
   "outputs": [],
   "source": [
    "import pandas as pd"
   ]
  },
  {
   "cell_type": "code",
   "execution_count": 23,
   "id": "c9740c70",
   "metadata": {},
   "outputs": [],
   "source": [
    "num_pages = 50"
   ]
  },
  {
   "cell_type": "code",
   "execution_count": 21,
   "id": "ff83294b",
   "metadata": {},
   "outputs": [],
   "source": [
    "names_col= []\n",
    "discount_col =[]\n",
    "ratings_col = []\n",
    "review_col = []\n",
    "prices_col = []"
   ]
  },
  {
   "cell_type": "code",
   "execution_count": 24,
   "id": "3d7e9057",
   "metadata": {},
   "outputs": [],
   "source": [
    "for i in range(num_pages):\n",
    "    time.sleep(30)\n",
    "    soup = BeautifulSoup(driver.page_source,\"html.parser\")\n",
    "    \n",
    " \n",
    "\n",
    "\n",
    "    for i in a:\n",
    "       text = i.get_text().strip()\n",
    "       if text:\n",
    "          names_col.append(text)\n",
    "       else:\n",
    "          names_col.append(\"NA\")\n",
    "    #for i in names:\n",
    "        #print(i)\n",
    "            \n",
    " \n",
    "    for i in d:\n",
    "        text=i.get_text().strip()\n",
    "        if text:\n",
    "            prices_col.append(text)\n",
    "        else:\n",
    "            prices_col.append(\"NA\")   \n",
    "\n",
    "    \n",
    "    for i in b:\n",
    "      text = i.get_text().strip()\n",
    "      if text:\n",
    "         ratings_col.append(text)\n",
    "      else:\n",
    "         ratings_col.append(\"NA\")\n",
    "\n",
    "    for i in c:\n",
    "       text=i.get_text().strip()\n",
    "       if text:\n",
    "          review_col.append(text)\n",
    "       else:\n",
    "          review_col.append(\"NA\")    \n",
    "\n",
    "    for i in e:\n",
    "       text=i.get_text().strip()\n",
    "       if text:\n",
    "          discount_col.append(text)\n",
    "       else:\n",
    "          discount_col.append(\"NA\")   \n",
    "        \n",
    "    try:\n",
    "        element =driver.find_element(\"xpath\",'//a[@class=\"_9QVEpD\"]')\n",
    "        element.click()\n",
    "    except Exception as e :\n",
    "        print(e) \n",
    "    \n",
    "driver.quit()"
   ]
  },
  {
   "cell_type": "code",
   "execution_count": 25,
   "id": "78bbfc4f",
   "metadata": {},
   "outputs": [
    {
     "name": "stdout",
     "output_type": "stream",
     "text": [
      "2000\n",
      "2000\n",
      "1050\n",
      "1050\n",
      "2000\n"
     ]
    }
   ],
   "source": [
    "print(len(discount_col))\n",
    "print(len(names_col))\n",
    "print(len(ratings_col))\n",
    "print(len(review_col))\n",
    "print(len(prices_col))"
   ]
  },
  {
   "cell_type": "code",
   "execution_count": 26,
   "id": "07d0a6ca",
   "metadata": {},
   "outputs": [],
   "source": [
    "df= pd.DataFrame({\"Names\":pd.Series(names_col),\"Reveiw\":pd.Series(review_col),\"Rating\":pd.Series(ratings_col)\n",
    "                  ,\"Price\" :pd.Series(prices_col), \"Discount\":pd.Series(discount_col)})"
   ]
  },
  {
   "cell_type": "code",
   "execution_count": 27,
   "id": "eabbf6a6",
   "metadata": {},
   "outputs": [
    {
     "data": {
      "text/html": [
       "<div>\n",
       "<style scoped>\n",
       "    .dataframe tbody tr th:only-of-type {\n",
       "        vertical-align: middle;\n",
       "    }\n",
       "\n",
       "    .dataframe tbody tr th {\n",
       "        vertical-align: top;\n",
       "    }\n",
       "\n",
       "    .dataframe thead th {\n",
       "        text-align: right;\n",
       "    }\n",
       "</style>\n",
       "<table border=\"1\" class=\"dataframe\">\n",
       "  <thead>\n",
       "    <tr style=\"text-align: right;\">\n",
       "      <th></th>\n",
       "      <th>Names</th>\n",
       "      <th>Reveiw</th>\n",
       "      <th>Rating</th>\n",
       "      <th>Price</th>\n",
       "      <th>Discount</th>\n",
       "    </tr>\n",
       "  </thead>\n",
       "  <tbody>\n",
       "    <tr>\n",
       "      <th>0</th>\n",
       "      <td>TRIGGR Ultrabuds N4 with Premium Finish, Rubbe...</td>\n",
       "      <td>(12,035)</td>\n",
       "      <td>4</td>\n",
       "      <td>₹699</td>\n",
       "      <td>65% off</td>\n",
       "    </tr>\n",
       "    <tr>\n",
       "      <th>1</th>\n",
       "      <td>TRIGGR Ultrabuds N4 with Premium Finish, Rubbe...</td>\n",
       "      <td>(12,035)</td>\n",
       "      <td>4</td>\n",
       "      <td>₹799</td>\n",
       "      <td>60% off</td>\n",
       "    </tr>\n",
       "    <tr>\n",
       "      <th>2</th>\n",
       "      <td>voy Transparent Earbuds/TWS/buds Calling earbu...</td>\n",
       "      <td>(6)</td>\n",
       "      <td>3</td>\n",
       "      <td>₹499</td>\n",
       "      <td>68% off</td>\n",
       "    </tr>\n",
       "    <tr>\n",
       "      <th>3</th>\n",
       "      <td>RECTITUDE P47 BEST QUALITY FOLDABLE HEADPHONE ...</td>\n",
       "      <td>(4,066)</td>\n",
       "      <td>4</td>\n",
       "      <td>₹715</td>\n",
       "      <td>28% off</td>\n",
       "    </tr>\n",
       "    <tr>\n",
       "      <th>4</th>\n",
       "      <td>AIRWILLS Bluetooth Wireless Ultradopes Buds Bl...</td>\n",
       "      <td>(7)</td>\n",
       "      <td>3.6</td>\n",
       "      <td>₹289</td>\n",
       "      <td>85% off</td>\n",
       "    </tr>\n",
       "    <tr>\n",
       "      <th>...</th>\n",
       "      <td>...</td>\n",
       "      <td>...</td>\n",
       "      <td>...</td>\n",
       "      <td>...</td>\n",
       "      <td>...</td>\n",
       "    </tr>\n",
       "    <tr>\n",
       "      <th>1995</th>\n",
       "      <td>Glowing Galaxy Wireless Earbuds with 4-in-1 Ch...</td>\n",
       "      <td>NaN</td>\n",
       "      <td>NaN</td>\n",
       "      <td>₹399</td>\n",
       "      <td>60% off</td>\n",
       "    </tr>\n",
       "    <tr>\n",
       "      <th>1996</th>\n",
       "      <td>HODOPHILE Classic A-520 Earbuds/TWs/buds 5.3 E...</td>\n",
       "      <td>NaN</td>\n",
       "      <td>NaN</td>\n",
       "      <td>₹855</td>\n",
       "      <td>65% off</td>\n",
       "    </tr>\n",
       "    <tr>\n",
       "      <th>1997</th>\n",
       "      <td>Walta Elite Dome Wireless Earbuds,Water Resist...</td>\n",
       "      <td>NaN</td>\n",
       "      <td>NaN</td>\n",
       "      <td>₹1,199</td>\n",
       "      <td>66% off</td>\n",
       "    </tr>\n",
       "    <tr>\n",
       "      <th>1998</th>\n",
       "      <td>Glowing Galaxy Wireless Earbuds with 4-in-1 Ch...</td>\n",
       "      <td>NaN</td>\n",
       "      <td>NaN</td>\n",
       "      <td>₹399</td>\n",
       "      <td>60% off</td>\n",
       "    </tr>\n",
       "    <tr>\n",
       "      <th>1999</th>\n",
       "      <td>Glowing Galaxy Wireless Earbuds with 4-in-1 Ch...</td>\n",
       "      <td>NaN</td>\n",
       "      <td>NaN</td>\n",
       "      <td>₹399</td>\n",
       "      <td>60% off</td>\n",
       "    </tr>\n",
       "  </tbody>\n",
       "</table>\n",
       "<p>2000 rows × 5 columns</p>\n",
       "</div>"
      ],
      "text/plain": [
       "                                                  Names    Reveiw Rating  \\\n",
       "0     TRIGGR Ultrabuds N4 with Premium Finish, Rubbe...  (12,035)      4   \n",
       "1     TRIGGR Ultrabuds N4 with Premium Finish, Rubbe...  (12,035)      4   \n",
       "2     voy Transparent Earbuds/TWS/buds Calling earbu...       (6)      3   \n",
       "3     RECTITUDE P47 BEST QUALITY FOLDABLE HEADPHONE ...   (4,066)      4   \n",
       "4     AIRWILLS Bluetooth Wireless Ultradopes Buds Bl...       (7)    3.6   \n",
       "...                                                 ...       ...    ...   \n",
       "1995  Glowing Galaxy Wireless Earbuds with 4-in-1 Ch...       NaN    NaN   \n",
       "1996  HODOPHILE Classic A-520 Earbuds/TWs/buds 5.3 E...       NaN    NaN   \n",
       "1997  Walta Elite Dome Wireless Earbuds,Water Resist...       NaN    NaN   \n",
       "1998  Glowing Galaxy Wireless Earbuds with 4-in-1 Ch...       NaN    NaN   \n",
       "1999  Glowing Galaxy Wireless Earbuds with 4-in-1 Ch...       NaN    NaN   \n",
       "\n",
       "       Price Discount  \n",
       "0       ₹699  65% off  \n",
       "1       ₹799  60% off  \n",
       "2       ₹499  68% off  \n",
       "3       ₹715  28% off  \n",
       "4       ₹289  85% off  \n",
       "...      ...      ...  \n",
       "1995    ₹399  60% off  \n",
       "1996    ₹855  65% off  \n",
       "1997  ₹1,199  66% off  \n",
       "1998    ₹399  60% off  \n",
       "1999    ₹399  60% off  \n",
       "\n",
       "[2000 rows x 5 columns]"
      ]
     },
     "execution_count": 27,
     "metadata": {},
     "output_type": "execute_result"
    }
   ],
   "source": [
    "df"
   ]
  },
  {
   "cell_type": "code",
   "execution_count": 28,
   "id": "d2e087e6",
   "metadata": {},
   "outputs": [],
   "source": [
    "df.to_csv('scraped_data2.csv', index=False)"
   ]
  },
  {
   "cell_type": "markdown",
   "id": "a4a8e99e",
   "metadata": {},
   "source": [
    "<t> Load the dataset</t>"
   ]
  },
  {
   "cell_type": "code",
   "execution_count": 1,
   "id": "e24a23ba",
   "metadata": {},
   "outputs": [],
   "source": [
    "import pandas as pd \n",
    "import numpy as np\n",
    "import seaborn as sns\n",
    "import matplotlib.pyplot as plt\n"
   ]
  },
  {
   "cell_type": "code",
   "execution_count": 2,
   "id": "97f9bcfb",
   "metadata": {},
   "outputs": [],
   "source": [
    "\n",
    "file_path = \"C:/Users/CHERAN T/Downloads/scraped_data2.csv\"\n",
    "df1 = pd.read_csv(file_path)"
   ]
  },
  {
   "cell_type": "code",
   "execution_count": 3,
   "id": "4fa6be9e",
   "metadata": {},
   "outputs": [
    {
     "data": {
      "text/html": [
       "<div>\n",
       "<style scoped>\n",
       "    .dataframe tbody tr th:only-of-type {\n",
       "        vertical-align: middle;\n",
       "    }\n",
       "\n",
       "    .dataframe tbody tr th {\n",
       "        vertical-align: top;\n",
       "    }\n",
       "\n",
       "    .dataframe thead th {\n",
       "        text-align: right;\n",
       "    }\n",
       "</style>\n",
       "<table border=\"1\" class=\"dataframe\">\n",
       "  <thead>\n",
       "    <tr style=\"text-align: right;\">\n",
       "      <th></th>\n",
       "      <th>Names</th>\n",
       "      <th>Reveiw</th>\n",
       "      <th>Rating</th>\n",
       "      <th>Price</th>\n",
       "      <th>Discount</th>\n",
       "    </tr>\n",
       "  </thead>\n",
       "  <tbody>\n",
       "    <tr>\n",
       "      <th>0</th>\n",
       "      <td>TRIGGR Ultrabuds N4 with Premium Finish, Rubbe...</td>\n",
       "      <td>(12,035)</td>\n",
       "      <td>4.0</td>\n",
       "      <td>₹699</td>\n",
       "      <td>65% off</td>\n",
       "    </tr>\n",
       "    <tr>\n",
       "      <th>1</th>\n",
       "      <td>TRIGGR Ultrabuds N4 with Premium Finish, Rubbe...</td>\n",
       "      <td>(12,035)</td>\n",
       "      <td>4.0</td>\n",
       "      <td>₹799</td>\n",
       "      <td>60% off</td>\n",
       "    </tr>\n",
       "    <tr>\n",
       "      <th>2</th>\n",
       "      <td>voy Transparent Earbuds/TWS/buds Calling earbu...</td>\n",
       "      <td>(6)</td>\n",
       "      <td>3.0</td>\n",
       "      <td>₹499</td>\n",
       "      <td>68% off</td>\n",
       "    </tr>\n",
       "    <tr>\n",
       "      <th>3</th>\n",
       "      <td>RECTITUDE P47 BEST QUALITY FOLDABLE HEADPHONE ...</td>\n",
       "      <td>(4,066)</td>\n",
       "      <td>4.0</td>\n",
       "      <td>₹715</td>\n",
       "      <td>28% off</td>\n",
       "    </tr>\n",
       "    <tr>\n",
       "      <th>4</th>\n",
       "      <td>AIRWILLS Bluetooth Wireless Ultradopes Buds Bl...</td>\n",
       "      <td>(7)</td>\n",
       "      <td>3.6</td>\n",
       "      <td>₹289</td>\n",
       "      <td>85% off</td>\n",
       "    </tr>\n",
       "    <tr>\n",
       "      <th>...</th>\n",
       "      <td>...</td>\n",
       "      <td>...</td>\n",
       "      <td>...</td>\n",
       "      <td>...</td>\n",
       "      <td>...</td>\n",
       "    </tr>\n",
       "    <tr>\n",
       "      <th>1995</th>\n",
       "      <td>Glowing Galaxy Wireless Earbuds with 4-in-1 Ch...</td>\n",
       "      <td>NaN</td>\n",
       "      <td>NaN</td>\n",
       "      <td>₹399</td>\n",
       "      <td>60% off</td>\n",
       "    </tr>\n",
       "    <tr>\n",
       "      <th>1996</th>\n",
       "      <td>HODOPHILE Classic A-520 Earbuds/TWs/buds 5.3 E...</td>\n",
       "      <td>NaN</td>\n",
       "      <td>NaN</td>\n",
       "      <td>₹855</td>\n",
       "      <td>65% off</td>\n",
       "    </tr>\n",
       "    <tr>\n",
       "      <th>1997</th>\n",
       "      <td>Walta Elite Dome Wireless Earbuds,Water Resist...</td>\n",
       "      <td>NaN</td>\n",
       "      <td>NaN</td>\n",
       "      <td>₹1,199</td>\n",
       "      <td>66% off</td>\n",
       "    </tr>\n",
       "    <tr>\n",
       "      <th>1998</th>\n",
       "      <td>Glowing Galaxy Wireless Earbuds with 4-in-1 Ch...</td>\n",
       "      <td>NaN</td>\n",
       "      <td>NaN</td>\n",
       "      <td>₹399</td>\n",
       "      <td>60% off</td>\n",
       "    </tr>\n",
       "    <tr>\n",
       "      <th>1999</th>\n",
       "      <td>Glowing Galaxy Wireless Earbuds with 4-in-1 Ch...</td>\n",
       "      <td>NaN</td>\n",
       "      <td>NaN</td>\n",
       "      <td>₹399</td>\n",
       "      <td>60% off</td>\n",
       "    </tr>\n",
       "  </tbody>\n",
       "</table>\n",
       "<p>2000 rows × 5 columns</p>\n",
       "</div>"
      ],
      "text/plain": [
       "                                                  Names    Reveiw  Rating  \\\n",
       "0     TRIGGR Ultrabuds N4 with Premium Finish, Rubbe...  (12,035)     4.0   \n",
       "1     TRIGGR Ultrabuds N4 with Premium Finish, Rubbe...  (12,035)     4.0   \n",
       "2     voy Transparent Earbuds/TWS/buds Calling earbu...       (6)     3.0   \n",
       "3     RECTITUDE P47 BEST QUALITY FOLDABLE HEADPHONE ...   (4,066)     4.0   \n",
       "4     AIRWILLS Bluetooth Wireless Ultradopes Buds Bl...       (7)     3.6   \n",
       "...                                                 ...       ...     ...   \n",
       "1995  Glowing Galaxy Wireless Earbuds with 4-in-1 Ch...       NaN     NaN   \n",
       "1996  HODOPHILE Classic A-520 Earbuds/TWs/buds 5.3 E...       NaN     NaN   \n",
       "1997  Walta Elite Dome Wireless Earbuds,Water Resist...       NaN     NaN   \n",
       "1998  Glowing Galaxy Wireless Earbuds with 4-in-1 Ch...       NaN     NaN   \n",
       "1999  Glowing Galaxy Wireless Earbuds with 4-in-1 Ch...       NaN     NaN   \n",
       "\n",
       "       Price Discount  \n",
       "0       ₹699  65% off  \n",
       "1       ₹799  60% off  \n",
       "2       ₹499  68% off  \n",
       "3       ₹715  28% off  \n",
       "4       ₹289  85% off  \n",
       "...      ...      ...  \n",
       "1995    ₹399  60% off  \n",
       "1996    ₹855  65% off  \n",
       "1997  ₹1,199  66% off  \n",
       "1998    ₹399  60% off  \n",
       "1999    ₹399  60% off  \n",
       "\n",
       "[2000 rows x 5 columns]"
      ]
     },
     "execution_count": 3,
     "metadata": {},
     "output_type": "execute_result"
    }
   ],
   "source": [
    "df1"
   ]
  },
  {
   "cell_type": "code",
   "execution_count": 4,
   "id": "b7a408c8",
   "metadata": {},
   "outputs": [
    {
     "name": "stdout",
     "output_type": "stream",
     "text": [
      "\n",
      "Summary Statistics:\n",
      "            Rating\n",
      "count  1050.000000\n",
      "mean      3.647619\n",
      "std       0.470907\n",
      "min       2.800000\n",
      "25%       3.400000\n",
      "50%       3.700000\n",
      "75%       4.000000\n",
      "max       4.600000\n",
      "\n",
      "Missing Values:\n",
      "Names         0\n",
      "Reveiw      950\n",
      "Rating      950\n",
      "Price         0\n",
      "Discount      0\n",
      "dtype: int64\n",
      "\n",
      "Dataset Shape: (2000, 5)\n"
     ]
    }
   ],
   "source": [
    "\n",
    "print(\"\\nSummary Statistics:\")\n",
    "print(df1.describe())\n",
    "\n",
    "# Check for missing values\n",
    "print(\"\\nMissing Values:\")\n",
    "print(df1.isnull().sum())\n",
    "\n",
    "# Shape of dataset\n",
    "print(\"\\nDataset Shape:\", df1.shape)"
   ]
  },
  {
   "cell_type": "code",
   "execution_count": 5,
   "id": "a4331508",
   "metadata": {},
   "outputs": [],
   "source": [
    "from sklearn.preprocessing import LabelEncoder\n",
    "\n",
    "\n",
    "# Set style\n",
    "sns.set(style=\"whitegrid\")"
   ]
  },
  {
   "cell_type": "code",
   "execution_count": 6,
   "id": "b96ce86a",
   "metadata": {},
   "outputs": [],
   "source": [
    "df1.rename(columns={'Reveiw': 'Review'}, inplace=True)"
   ]
  },
  {
   "cell_type": "code",
   "execution_count": 7,
   "id": "ac053666",
   "metadata": {},
   "outputs": [],
   "source": [
    "df1['Price'] = df1['Price'].replace({'₹': '', ',': ''}, regex=True)\n",
    "df1['Price'] = pd.to_numeric(df1['Price'], errors='coerce')\n",
    "\n",
    "df1['Discount'] = df1['Discount'].astype(str).str.replace('% off', '', regex=False).astype(int)\n",
    "\n",
    "df1['Review'] = df1['Review'].astype(str).str.replace('[(),]', '', regex=True)\n",
    "df1['Review'] = df1['Review'].replace('nan', 0).astype(int)"
   ]
  },
  {
   "cell_type": "code",
   "execution_count": 8,
   "id": "fc26cf4f",
   "metadata": {},
   "outputs": [
    {
     "name": "stderr",
     "output_type": "stream",
     "text": [
      "C:\\Users\\CHERAN T\\AppData\\Local\\Temp\\ipykernel_15664\\3320866365.py:1: FutureWarning: Series.fillna with 'method' is deprecated and will raise in a future version. Use obj.ffill() or obj.bfill() instead.\n",
      "  df1['Rating'] = df1['Rating'].fillna(method='ffill')   # forward fill\n",
      "C:\\Users\\CHERAN T\\AppData\\Local\\Temp\\ipykernel_15664\\3320866365.py:2: FutureWarning: Series.fillna with 'method' is deprecated and will raise in a future version. Use obj.ffill() or obj.bfill() instead.\n",
      "  df1['Rating'] = df1['Rating'].fillna(method='bfill')   # backward fill\n"
     ]
    }
   ],
   "source": [
    "\n",
    "df1['Rating'] = df1['Rating'].fillna(method='ffill')   # forward fill\n",
    "df1['Rating'] = df1['Rating'].fillna(method='bfill')   # backward fill\n",
    "\n",
    "df1['Rating'] = pd.to_numeric(df1['Rating'], errors='coerce')"
   ]
  },
  {
   "cell_type": "code",
   "execution_count": 9,
   "id": "2154341d",
   "metadata": {},
   "outputs": [],
   "source": [
    "# Remove outliers (IQR method)\n",
    "Q1,Q3 = df1['Price'].quantile([0.25, 0.75])\n",
    "IQR = Q3 - Q1\n",
    "lower, upper = Q1 - 3*IQR, Q3 + 3*IQR\n",
    "v = df1[(df1['Price'] >= lower) & (df1['Price'] <= upper)]"
   ]
  },
  {
   "cell_type": "code",
   "execution_count": 10,
   "id": "d08bd236",
   "metadata": {},
   "outputs": [
    {
     "name": "stdout",
     "output_type": "stream",
     "text": [
      "2000\n",
      "2000\n"
     ]
    }
   ],
   "source": [
    "print(len(v))\n",
    "print(len(df1[\"Price\"]))"
   ]
  },
  {
   "cell_type": "code",
   "execution_count": 11,
   "id": "000813f9",
   "metadata": {},
   "outputs": [
    {
     "name": "stdout",
     "output_type": "stream",
     "text": [
      "\n",
      "Missing Values:\n",
      "Names       0\n",
      "Review      0\n",
      "Rating      0\n",
      "Price       0\n",
      "Discount    0\n",
      "dtype: int64\n"
     ]
    }
   ],
   "source": [
    "print(\"\\nMissing Values:\")\n",
    "print(df1.isnull().sum())"
   ]
  },
  {
   "cell_type": "code",
   "execution_count": 12,
   "id": "2a2274e1",
   "metadata": {},
   "outputs": [],
   "source": [
    "df1 = df1.drop_duplicates()\n"
   ]
  },
  {
   "cell_type": "code",
   "execution_count": 13,
   "id": "d715ccd6",
   "metadata": {},
   "outputs": [
    {
     "data": {
      "text/html": [
       "<div>\n",
       "<style scoped>\n",
       "    .dataframe tbody tr th:only-of-type {\n",
       "        vertical-align: middle;\n",
       "    }\n",
       "\n",
       "    .dataframe tbody tr th {\n",
       "        vertical-align: top;\n",
       "    }\n",
       "\n",
       "    .dataframe thead th {\n",
       "        text-align: right;\n",
       "    }\n",
       "</style>\n",
       "<table border=\"1\" class=\"dataframe\">\n",
       "  <thead>\n",
       "    <tr style=\"text-align: right;\">\n",
       "      <th></th>\n",
       "      <th>Names</th>\n",
       "      <th>Review</th>\n",
       "      <th>Rating</th>\n",
       "      <th>Price</th>\n",
       "      <th>Discount</th>\n",
       "    </tr>\n",
       "  </thead>\n",
       "  <tbody>\n",
       "    <tr>\n",
       "      <th>0</th>\n",
       "      <td>TRIGGR Ultrabuds N4 with Premium Finish, Rubbe...</td>\n",
       "      <td>12035</td>\n",
       "      <td>4.0</td>\n",
       "      <td>699</td>\n",
       "      <td>65</td>\n",
       "    </tr>\n",
       "    <tr>\n",
       "      <th>1</th>\n",
       "      <td>TRIGGR Ultrabuds N4 with Premium Finish, Rubbe...</td>\n",
       "      <td>12035</td>\n",
       "      <td>4.0</td>\n",
       "      <td>799</td>\n",
       "      <td>60</td>\n",
       "    </tr>\n",
       "    <tr>\n",
       "      <th>2</th>\n",
       "      <td>voy Transparent Earbuds/TWS/buds Calling earbu...</td>\n",
       "      <td>6</td>\n",
       "      <td>3.0</td>\n",
       "      <td>499</td>\n",
       "      <td>68</td>\n",
       "    </tr>\n",
       "    <tr>\n",
       "      <th>3</th>\n",
       "      <td>RECTITUDE P47 BEST QUALITY FOLDABLE HEADPHONE ...</td>\n",
       "      <td>4066</td>\n",
       "      <td>4.0</td>\n",
       "      <td>715</td>\n",
       "      <td>28</td>\n",
       "    </tr>\n",
       "    <tr>\n",
       "      <th>4</th>\n",
       "      <td>AIRWILLS Bluetooth Wireless Ultradopes Buds Bl...</td>\n",
       "      <td>7</td>\n",
       "      <td>3.6</td>\n",
       "      <td>289</td>\n",
       "      <td>85</td>\n",
       "    </tr>\n",
       "    <tr>\n",
       "      <th>...</th>\n",
       "      <td>...</td>\n",
       "      <td>...</td>\n",
       "      <td>...</td>\n",
       "      <td>...</td>\n",
       "      <td>...</td>\n",
       "    </tr>\n",
       "    <tr>\n",
       "      <th>1085</th>\n",
       "      <td>TRIGGR Ultrabuds N5 with Latest BT v6.0, 40Hr ...</td>\n",
       "      <td>0</td>\n",
       "      <td>3.4</td>\n",
       "      <td>599</td>\n",
       "      <td>80</td>\n",
       "    </tr>\n",
       "    <tr>\n",
       "      <th>1086</th>\n",
       "      <td>e grow TWS Wireless Earbuds with Deep Bass Tou...</td>\n",
       "      <td>0</td>\n",
       "      <td>3.4</td>\n",
       "      <td>570</td>\n",
       "      <td>90</td>\n",
       "    </tr>\n",
       "    <tr>\n",
       "      <th>1087</th>\n",
       "      <td>Campher Premium Wireless Earbuds Bluetooth Hea...</td>\n",
       "      <td>0</td>\n",
       "      <td>3.4</td>\n",
       "      <td>281</td>\n",
       "      <td>85</td>\n",
       "    </tr>\n",
       "    <tr>\n",
       "      <th>1088</th>\n",
       "      <td>NECKTECH Hear in 2 Bluetooth &amp; Wired</td>\n",
       "      <td>0</td>\n",
       "      <td>3.4</td>\n",
       "      <td>284</td>\n",
       "      <td>41</td>\n",
       "    </tr>\n",
       "    <tr>\n",
       "      <th>1089</th>\n",
       "      <td>Smartbeats TWS Smart buds with Cable Charging ...</td>\n",
       "      <td>0</td>\n",
       "      <td>3.4</td>\n",
       "      <td>783</td>\n",
       "      <td>60</td>\n",
       "    </tr>\n",
       "  </tbody>\n",
       "</table>\n",
       "<p>735 rows × 5 columns</p>\n",
       "</div>"
      ],
      "text/plain": [
       "                                                  Names  Review  Rating  \\\n",
       "0     TRIGGR Ultrabuds N4 with Premium Finish, Rubbe...   12035     4.0   \n",
       "1     TRIGGR Ultrabuds N4 with Premium Finish, Rubbe...   12035     4.0   \n",
       "2     voy Transparent Earbuds/TWS/buds Calling earbu...       6     3.0   \n",
       "3     RECTITUDE P47 BEST QUALITY FOLDABLE HEADPHONE ...    4066     4.0   \n",
       "4     AIRWILLS Bluetooth Wireless Ultradopes Buds Bl...       7     3.6   \n",
       "...                                                 ...     ...     ...   \n",
       "1085  TRIGGR Ultrabuds N5 with Latest BT v6.0, 40Hr ...       0     3.4   \n",
       "1086  e grow TWS Wireless Earbuds with Deep Bass Tou...       0     3.4   \n",
       "1087  Campher Premium Wireless Earbuds Bluetooth Hea...       0     3.4   \n",
       "1088               NECKTECH Hear in 2 Bluetooth & Wired       0     3.4   \n",
       "1089  Smartbeats TWS Smart buds with Cable Charging ...       0     3.4   \n",
       "\n",
       "      Price  Discount  \n",
       "0       699        65  \n",
       "1       799        60  \n",
       "2       499        68  \n",
       "3       715        28  \n",
       "4       289        85  \n",
       "...     ...       ...  \n",
       "1085    599        80  \n",
       "1086    570        90  \n",
       "1087    281        85  \n",
       "1088    284        41  \n",
       "1089    783        60  \n",
       "\n",
       "[735 rows x 5 columns]"
      ]
     },
     "execution_count": 13,
     "metadata": {},
     "output_type": "execute_result"
    }
   ],
   "source": [
    "df1"
   ]
  },
  {
   "cell_type": "markdown",
   "id": "b530a8f3",
   "metadata": {},
   "source": [
    "<t> Univariate Analysis</t>"
   ]
  },
  {
   "cell_type": "code",
   "execution_count": 14,
   "id": "419f63a9",
   "metadata": {},
   "outputs": [
    {
     "data": {
      "image/png": "[encoded data removed]",
      "text/plain": [
       "<Figure size 800x500 with 1 Axes>"
      ]
     },
     "metadata": {},
     "output_type": "display_data"
    }
   ],
   "source": [
    "# Price Distribution\n",
    "plt.figure(figsize=(8,5))\n",
    "sns.histplot(df1['Price'], bins=30, kde=True, color='skyblue')\n",
    "plt.title(\"Price Distribution\")\n",
    "plt.xlabel(\"Price (₹)\")\n",
    "plt.ylabel(\"Frequency\")\n",
    "plt.show()\n"
   ]
  },
  {
   "cell_type": "code",
   "execution_count": 15,
   "id": "d67cfab0",
   "metadata": {},
   "outputs": [
    {
     "data": {
      "image/png": "[encoded data removed]",
      "text/plain": [
       "<Figure size 800x500 with 1 Axes>"
      ]
     },
     "metadata": {},
     "output_type": "display_data"
    }
   ],
   "source": [
    "\n",
    "# Rating Distribution\n",
    "plt.figure(figsize=(8,5))\n",
    "sns.histplot(df1['Rating'], bins=10, kde=True, color='orange')\n",
    "plt.title(\"Rating Distribution\")\n",
    "plt.xlabel(\"Rating\")\n",
    "plt.ylabel(\"Count\")\n",
    "plt.show()\n"
   ]
  },
  {
   "cell_type": "code",
   "execution_count": 17,
   "id": "df3ab611",
   "metadata": {},
   "outputs": [
    {
     "data": {
      "image/png": "[encoded data removed]",
      "text/plain": [
       "<Figure size 800x500 with 1 Axes>"
      ]
     },
     "metadata": {},
     "output_type": "display_data"
    },
    {
     "data": {
      "image/png": "[encoded data removed]",
      "text/plain": [
       "<Figure size 800x500 with 1 Axes>"
      ]
     },
     "metadata": {},
     "output_type": "display_data"
    }
   ],
   "source": [
    "\n",
    "# Discount Distribution\n",
    "plt.figure(figsize=(8,5))\n",
    "sns.histplot(df1['Discount'], bins=20, kde=True, color='green')\n",
    "plt.title(\"Discount Percentage Distribution\")\n",
    "plt.xlabel(\"Discount (%)\")\n",
    "plt.ylabel(\"Count\")\n",
    "plt.show()\n",
    "\n",
    "# Review Count Distribution\n",
    "plt.figure(figsize=(8,5))\n",
    "sns.histplot(df1['Review'], bins=30, kde=True, color='purple')\n",
    "plt.title(\"Number of Reviews Distribution\")\n",
    "plt.xlabel(\"Reviews Count\")\n",
    "plt.ylabel(\"Frequency\")\n",
    "plt.show()"
   ]
  },
  {
   "cell_type": "markdown",
   "id": "d90adb92",
   "metadata": {},
   "source": [
    "<t>Relationships Between Variables</t>"
   ]
  },
  {
   "cell_type": "code",
   "execution_count": 18,
   "id": "7c54b30e",
   "metadata": {},
   "outputs": [
    {
     "data": {
      "image/png": "[encoded data removed]",
      "text/plain": [
       "<Figure size 700x500 with 1 Axes>"
      ]
     },
     "metadata": {},
     "output_type": "display_data"
    },
    {
     "name": "stderr",
     "output_type": "stream",
     "text": [
      "C:\\Users\\CHERAN T\\AppData\\Local\\Temp\\ipykernel_15664\\2060481116.py:12: FutureWarning: \n",
      "\n",
      "Passing `palette` without assigning `hue` is deprecated and will be removed in v0.14.0. Assign the `x` variable to `hue` and set `legend=False` for the same effect.\n",
      "\n",
      "  sns.boxplot(x='Rating', y='Discount', data=df1, palette='coolwarm')\n"
     ]
    },
    {
     "data": {
      "image/png": "[encoded data removed]",
      "text/plain": [
       "<Figure size 700x500 with 1 Axes>"
      ]
     },
     "metadata": {},
     "output_type": "display_data"
    }
   ],
   "source": [
    "# Price vs Rating\n",
    "plt.figure(figsize=(7,5))\n",
    "sns.scatterplot(x='Price', y='Rating', data=df1, alpha=0.7)\n",
    "plt.title(\"Price vs Rating\")\n",
    "plt.xlabel(\"Price (₹)\")\n",
    "plt.ylabel(\"Rating\")\n",
    "plt.show()\n",
    "\n",
    "\n",
    "# Discount vs Rating\n",
    "plt.figure(figsize=(7,5))\n",
    "sns.boxplot(x='Rating', y='Discount', data=df1, palette='coolwarm')\n",
    "plt.title(\"Discount vs Rating\")\n",
    "plt.show()"
   ]
  },
  {
   "cell_type": "markdown",
   "id": "27abd672",
   "metadata": {},
   "source": [
    "<t>Multi- variate Analysis</t>"
   ]
  },
  {
   "cell_type": "code",
   "execution_count": 19,
   "id": "8653e938",
   "metadata": {},
   "outputs": [
    {
     "data": {
      "image/png": "[encoded data removed]",
      "text/plain": [
       "<Figure size 600x500 with 2 Axes>"
      ]
     },
     "metadata": {},
     "output_type": "display_data"
    }
   ],
   "source": [
    "plt.figure(figsize=(6,5))\n",
    "sns.heatmap(df1[['Price','Rating','Review','Discount']].corr(), annot=True, cmap='coolwarm', fmt=\".2f\")\n",
    "plt.title(\"Correlation Heatmap\")\n",
    "plt.show()"
   ]
  },
  {
   "cell_type": "code",
   "execution_count": 20,
   "id": "26caed81",
   "metadata": {},
   "outputs": [
    {
     "name": "stdout",
     "output_type": "stream",
     "text": [
      "\n",
      "===== KEY INSIGHTS =====\n",
      "Total products analyzed: 735\n",
      "Average price: ₹659.20\n",
      "Average rating: 3.62\n",
      "Average discount: 73.26%\n",
      "Average number of reviews: 3871\n",
      "\n",
      "Top 10 most reviewed products:\n",
      "                                                 Names  Review  Rating  Price  \\\n",
      "510  ModishOmbre Bluetooth V5.3 Unisex Earbuds Touc...   64384     4.1   1139   \n",
      "6    e grow TWS Wireless Earbuds with Deep Bass Tou...   64384     4.1    570   \n",
      "531  HOPPUP AirDoze S40 Earbuds with 13MM Drivers, ...   64384     4.1    599   \n",
      "636  HODOPHILE Classic A-520 Earbuds/TWs/buds 5.3 E...   64384     4.1    855   \n",
      "615  Smartbeats SmartPods EarbudsPro2 TWS with Cabl...   64384     4.1    761   \n",
      "468  TWS Pro-Gaming Audio, Quick Connect, True Wire...   64384     4.1    299   \n",
      "720  TRIGGR Ultrabuds N4 with Premium Finish, Rubbe...   64384     4.1    699   \n",
      "699  Cellecor BroPods C107 GLOSS TWS with 40H Playt...   64384     4.1    999   \n",
      "783                               NXB Wave-X Bluetooth   64384     4.1    508   \n",
      "489  Smartbeats TWS Smart buds with Cable Charging ...   64384     4.1    783   \n",
      "\n",
      "     Discount  \n",
      "510        77  \n",
      "6          90  \n",
      "531        85  \n",
      "636        65  \n",
      "615        84  \n",
      "468        88  \n",
      "720        65  \n",
      "699        71  \n",
      "783        53  \n",
      "489        60  \n"
     ]
    }
   ],
   "source": [
    "# 🧠 Summary Insights\n",
    "# ==============================\n",
    "print(\"\\n===== KEY INSIGHTS =====\")\n",
    "print(f\"Total products analyzed: {len(df1)}\")\n",
    "print(f\"Average price: ₹{df1['Price'].mean():.2f}\")\n",
    "print(f\"Average rating: {df1['Rating'].mean():.2f}\")\n",
    "print(f\"Average discount: {df1['Discount'].mean():.2f}%\")\n",
    "print(f\"Average number of reviews: {df1['Review'].mean():.0f}\")\n",
    "\n",
    "# Top 10 most reviewed products\n",
    "print(\"\\nTop 10 most reviewed products:\")\n",
    "print(df1[['Names','Review','Rating','Price','Discount']].sort_values(by='Review', ascending=False).head(10))"
   ]
  },
  {
   "cell_type": "code",
   "execution_count": 24,
   "id": "938851ff",
   "metadata": {},
   "outputs": [
    {
     "name": "stdout",
     "output_type": "stream",
     "text": [
      "✅ Cleaned data successfully stored in 'ecommerce_products.db' (table: cleaned_products)\n",
      "                                               Names  Review  Rating  Price  \\\n",
      "0  TRIGGR Ultrabuds N4 with Premium Finish, Rubbe...   12035     4.0    699   \n",
      "1  TRIGGR Ultrabuds N4 with Premium Finish, Rubbe...   12035     4.0    799   \n",
      "2  voy Transparent Earbuds/TWS/buds Calling earbu...       6     3.0    499   \n",
      "3  RECTITUDE P47 BEST QUALITY FOLDABLE HEADPHONE ...    4066     4.0    715   \n",
      "4  AIRWILLS Bluetooth Wireless Ultradopes Buds Bl...       7     3.6    289   \n",
      "\n",
      "   Discount  \n",
      "0        65  \n",
      "1        60  \n",
      "2        68  \n",
      "3        28  \n",
      "4        85  \n"
     ]
    }
   ],
   "source": [
    "\n",
    "\n",
    "from sqlalchemy import create_engine\n",
    "\n",
    "# ✅ Create a SQLite database (file will be created locally)\n",
    "engine = create_engine('sqlite:///ecommerce_products.db')\n",
    "\n",
    "# ✅ Push the cleaned dataframe to SQL\n",
    "df1.to_sql('cleaned_products', con=engine, if_exists='replace', index=False)\n",
    "\n",
    "print(\"✅ Cleaned data successfully stored in 'ecommerce_products.db' (table: cleaned_products)\")\n",
    "\n",
    "# Optional: test by loading back a few rows\n",
    "test_df = pd.read_sql('SELECT * FROM cleaned_products LIMIT 5;', con=engine)\n",
    "print(test_df)\n"
   ]
  },
  {
   "cell_type": "markdown",
   "id": "c96d1317",
   "metadata": {},
   "source": [
    "<t>Unsupervised Learning</t>"
   ]
  },
  {
   "cell_type": "code",
   "execution_count": 25,
   "id": "393cb931",
   "metadata": {},
   "outputs": [
    {
     "data": {
      "image/png": "[encoded data removed]",
      "text/plain": [
       "<Figure size 640x480 with 1 Axes>"
      ]
     },
     "metadata": {},
     "output_type": "display_data"
    },
    {
     "name": "stdout",
     "output_type": "stream",
     "text": [
      "                                               Names  Price  Rating  Review  \\\n",
      "0  TRIGGR Ultrabuds N4 with Premium Finish, Rubbe...    699     4.0   12035   \n",
      "1  TRIGGR Ultrabuds N4 with Premium Finish, Rubbe...    799     4.0   12035   \n",
      "2  voy Transparent Earbuds/TWS/buds Calling earbu...    499     3.0       6   \n",
      "3  RECTITUDE P47 BEST QUALITY FOLDABLE HEADPHONE ...    715     4.0    4066   \n",
      "4  AIRWILLS Bluetooth Wireless Ultradopes Buds Bl...    289     3.6       7   \n",
      "\n",
      "   Discount  Cluster  \n",
      "0        65        2  \n",
      "1        60        2  \n",
      "2        68        0  \n",
      "3        28        1  \n",
      "4        85        0  \n"
     ]
    },
    {
     "data": {
      "text/plain": [
       "735"
      ]
     },
     "execution_count": 25,
     "metadata": {},
     "output_type": "execute_result"
    }
   ],
   "source": [
    "# Import libraries\n",
    "import pandas as pd\n",
    "from sklearn.preprocessing import StandardScaler\n",
    "from sklearn.cluster import KMeans\n",
    "import matplotlib.pyplot as plt\n",
    "from sqlalchemy import create_engine\n",
    "\n",
    "\n",
    "engine = create_engine('sqlite:///ecommerce_products.db')\n",
    "df1 = pd.read_sql('SELECT * FROM cleaned_products', con=engine)\n",
    "\n",
    "# Step 2: Select numerical features for clustering\n",
    "X = df1[['Price', 'Rating', 'Review','Discount']]  # adjust column names if needed\n",
    "\n",
    "\n",
    "# Step 3: Scale data\n",
    "scaler = StandardScaler()\n",
    "X_scaled = scaler.fit_transform(X)\n",
    "\n",
    "# Step 4 (Optional): Find optimal number of clusters using Elbow Method\n",
    "inertia = []\n",
    "k_range = range(2, 10)\n",
    "for k in k_range:\n",
    "    kmeans = KMeans(n_clusters=k, random_state=42)\n",
    "    kmeans.fit(X_scaled)\n",
    "    inertia.append(kmeans.inertia_)\n",
    "\n",
    "plt.plot(k_range, inertia, marker='o')\n",
    "plt.xlabel('Number of Clusters (k)')\n",
    "plt.ylabel('Inertia')\n",
    "plt.title('Elbow Method to Determine Optimal k')\n",
    "plt.show()\n",
    "\n",
    "# Step 5: Fit K-Means with chosen number of clusters (e.g., k=4)\n",
    "kmeans = KMeans(n_clusters=4, random_state=42)\n",
    "df1['Cluster'] = kmeans.fit_predict(X_scaled)\n",
    "\n",
    "# Step 6: View cluster results\n",
    "print(df1[['Names', 'Price', 'Rating', 'Review',\"Discount\", 'Cluster']].head())\n",
    "\n",
    "df1.to_sql('products_clustered', con=engine, if_exists='replace', index=False)\n"
   ]
  },
  {
   "cell_type": "code",
   "execution_count": 26,
   "id": "cfbc4b83",
   "metadata": {},
   "outputs": [
    {
     "data": {
      "text/html": [
       "<div>\n",
       "<style scoped>\n",
       "    .dataframe tbody tr th:only-of-type {\n",
       "        vertical-align: middle;\n",
       "    }\n",
       "\n",
       "    .dataframe tbody tr th {\n",
       "        vertical-align: top;\n",
       "    }\n",
       "\n",
       "    .dataframe thead th {\n",
       "        text-align: right;\n",
       "    }\n",
       "</style>\n",
       "<table border=\"1\" class=\"dataframe\">\n",
       "  <thead>\n",
       "    <tr style=\"text-align: right;\">\n",
       "      <th></th>\n",
       "      <th>Names</th>\n",
       "      <th>Review</th>\n",
       "      <th>Rating</th>\n",
       "      <th>Price</th>\n",
       "      <th>Discount</th>\n",
       "      <th>Cluster</th>\n",
       "    </tr>\n",
       "  </thead>\n",
       "  <tbody>\n",
       "    <tr>\n",
       "      <th>0</th>\n",
       "      <td>TRIGGR Ultrabuds N4 with Premium Finish, Rubbe...</td>\n",
       "      <td>12035</td>\n",
       "      <td>4.0</td>\n",
       "      <td>699</td>\n",
       "      <td>65</td>\n",
       "      <td>2</td>\n",
       "    </tr>\n",
       "    <tr>\n",
       "      <th>1</th>\n",
       "      <td>TRIGGR Ultrabuds N4 with Premium Finish, Rubbe...</td>\n",
       "      <td>12035</td>\n",
       "      <td>4.0</td>\n",
       "      <td>799</td>\n",
       "      <td>60</td>\n",
       "      <td>2</td>\n",
       "    </tr>\n",
       "    <tr>\n",
       "      <th>2</th>\n",
       "      <td>voy Transparent Earbuds/TWS/buds Calling earbu...</td>\n",
       "      <td>6</td>\n",
       "      <td>3.0</td>\n",
       "      <td>499</td>\n",
       "      <td>68</td>\n",
       "      <td>0</td>\n",
       "    </tr>\n",
       "    <tr>\n",
       "      <th>3</th>\n",
       "      <td>RECTITUDE P47 BEST QUALITY FOLDABLE HEADPHONE ...</td>\n",
       "      <td>4066</td>\n",
       "      <td>4.0</td>\n",
       "      <td>715</td>\n",
       "      <td>28</td>\n",
       "      <td>1</td>\n",
       "    </tr>\n",
       "    <tr>\n",
       "      <th>4</th>\n",
       "      <td>AIRWILLS Bluetooth Wireless Ultradopes Buds Bl...</td>\n",
       "      <td>7</td>\n",
       "      <td>3.6</td>\n",
       "      <td>289</td>\n",
       "      <td>85</td>\n",
       "      <td>0</td>\n",
       "    </tr>\n",
       "    <tr>\n",
       "      <th>...</th>\n",
       "      <td>...</td>\n",
       "      <td>...</td>\n",
       "      <td>...</td>\n",
       "      <td>...</td>\n",
       "      <td>...</td>\n",
       "      <td>...</td>\n",
       "    </tr>\n",
       "    <tr>\n",
       "      <th>730</th>\n",
       "      <td>TRIGGR Ultrabuds N5 with Latest BT v6.0, 40Hr ...</td>\n",
       "      <td>0</td>\n",
       "      <td>3.4</td>\n",
       "      <td>599</td>\n",
       "      <td>80</td>\n",
       "      <td>0</td>\n",
       "    </tr>\n",
       "    <tr>\n",
       "      <th>731</th>\n",
       "      <td>e grow TWS Wireless Earbuds with Deep Bass Tou...</td>\n",
       "      <td>0</td>\n",
       "      <td>3.4</td>\n",
       "      <td>570</td>\n",
       "      <td>90</td>\n",
       "      <td>0</td>\n",
       "    </tr>\n",
       "    <tr>\n",
       "      <th>732</th>\n",
       "      <td>Campher Premium Wireless Earbuds Bluetooth Hea...</td>\n",
       "      <td>0</td>\n",
       "      <td>3.4</td>\n",
       "      <td>281</td>\n",
       "      <td>85</td>\n",
       "      <td>0</td>\n",
       "    </tr>\n",
       "    <tr>\n",
       "      <th>733</th>\n",
       "      <td>NECKTECH Hear in 2 Bluetooth &amp; Wired</td>\n",
       "      <td>0</td>\n",
       "      <td>3.4</td>\n",
       "      <td>284</td>\n",
       "      <td>41</td>\n",
       "      <td>1</td>\n",
       "    </tr>\n",
       "    <tr>\n",
       "      <th>734</th>\n",
       "      <td>Smartbeats TWS Smart buds with Cable Charging ...</td>\n",
       "      <td>0</td>\n",
       "      <td>3.4</td>\n",
       "      <td>783</td>\n",
       "      <td>60</td>\n",
       "      <td>1</td>\n",
       "    </tr>\n",
       "  </tbody>\n",
       "</table>\n",
       "<p>735 rows × 6 columns</p>\n",
       "</div>"
      ],
      "text/plain": [
       "                                                 Names  Review  Rating  Price  \\\n",
       "0    TRIGGR Ultrabuds N4 with Premium Finish, Rubbe...   12035     4.0    699   \n",
       "1    TRIGGR Ultrabuds N4 with Premium Finish, Rubbe...   12035     4.0    799   \n",
       "2    voy Transparent Earbuds/TWS/buds Calling earbu...       6     3.0    499   \n",
       "3    RECTITUDE P47 BEST QUALITY FOLDABLE HEADPHONE ...    4066     4.0    715   \n",
       "4    AIRWILLS Bluetooth Wireless Ultradopes Buds Bl...       7     3.6    289   \n",
       "..                                                 ...     ...     ...    ...   \n",
       "730  TRIGGR Ultrabuds N5 with Latest BT v6.0, 40Hr ...       0     3.4    599   \n",
       "731  e grow TWS Wireless Earbuds with Deep Bass Tou...       0     3.4    570   \n",
       "732  Campher Premium Wireless Earbuds Bluetooth Hea...       0     3.4    281   \n",
       "733               NECKTECH Hear in 2 Bluetooth & Wired       0     3.4    284   \n",
       "734  Smartbeats TWS Smart buds with Cable Charging ...       0     3.4    783   \n",
       "\n",
       "     Discount  Cluster  \n",
       "0          65        2  \n",
       "1          60        2  \n",
       "2          68        0  \n",
       "3          28        1  \n",
       "4          85        0  \n",
       "..        ...      ...  \n",
       "730        80        0  \n",
       "731        90        0  \n",
       "732        85        0  \n",
       "733        41        1  \n",
       "734        60        1  \n",
       "\n",
       "[735 rows x 6 columns]"
      ]
     },
     "execution_count": 26,
     "metadata": {},
     "output_type": "execute_result"
    }
   ],
   "source": [
    "df1"
   ]
  },
  {
   "cell_type": "code",
   "execution_count": 27,
   "id": "9acf90d4",
   "metadata": {},
   "outputs": [
    {
     "data": {
      "text/plain": [
       "Cluster\n",
       "0    297\n",
       "1    213\n",
       "2    190\n",
       "3     35\n",
       "Name: count, dtype: int64"
      ]
     },
     "execution_count": 27,
     "metadata": {},
     "output_type": "execute_result"
    }
   ],
   "source": [
    "df1['Cluster'].value_counts()\n"
   ]
  },
  {
   "cell_type": "code",
   "execution_count": 28,
   "id": "23af237a",
   "metadata": {},
   "outputs": [
    {
     "name": "stdout",
     "output_type": "stream",
     "text": [
      "          Price  Rating    Review  Discount\n",
      "Cluster                                    \n",
      "1        827.56    3.36    191.16     59.07\n",
      "2        745.89    4.14   2240.21     73.00\n",
      "3        659.20    4.10  64384.00     73.26\n",
      "0        483.00    3.42    422.66     83.60\n"
     ]
    }
   ],
   "source": [
    "cluster_summary = (\n",
    "    df1.groupby('Cluster')[['Price', 'Rating', 'Review', 'Discount']]\n",
    "    .mean()\n",
    "    .sort_values(by='Price', ascending=False)\n",
    "    .round(2)\n",
    ")\n",
    "print(cluster_summary)\n",
    "\n"
   ]
  },
  {
   "cell_type": "markdown",
   "id": "af4b0d66",
   "metadata": {},
   "source": [
    "<t>Supervised Learning</t>"
   ]
  },
  {
   "cell_type": "code",
   "execution_count": 29,
   "id": "b2f7d37e",
   "metadata": {},
   "outputs": [
    {
     "name": "stdout",
     "output_type": "stream",
     "text": [
      "X_train shape: (588, 4)\n",
      "X_test shape: (147, 4)\n",
      "y_train distribution:\n",
      " Cluster\n",
      "0    238\n",
      "1    170\n",
      "2    152\n",
      "3     28\n",
      "Name: count, dtype: int64\n"
     ]
    }
   ],
   "source": [
    "# Import libraries\n",
    "import pandas as pd\n",
    "from sqlalchemy import create_engine\n",
    "from sklearn.model_selection import train_test_split\n",
    "\n",
    "# Step 1: Load dataset (if from SQL)\n",
    "engine = create_engine('sqlite:///ecommerce_products.db')\n",
    "df1 = pd.read_sql('SELECT * FROM products_clustered', con=engine)\n",
    "\n",
    "\n",
    "df2 = df1.copy()\n",
    "\n",
    "# Step 2: Define features (X) and target (y)\n",
    "X = df2[['Price', 'Rating', 'Review', 'Discount']]\n",
    "y = df2['Cluster']\n",
    "\n",
    "# Step 3: Split data into training and testing sets (80% train, 20% test)\n",
    "X_train, X_test, y_train, y_test = train_test_split(\n",
    "    X, y, test_size=0.2, random_state=42, stratify=y\n",
    ")\n",
    "\n",
    "# Step 4: Confirm shapes\n",
    "print(\"X_train shape:\", X_train.shape)\n",
    "print(\"X_test shape:\", X_test.shape)\n",
    "print(\"y_train distribution:\\n\", y_train.value_counts())\n"
   ]
  },
  {
   "cell_type": "code",
   "execution_count": 30,
   "id": "70778878",
   "metadata": {},
   "outputs": [],
   "source": [
    "\n",
    "from sklearn.metrics import accuracy_score, f1_score, classification_report\n"
   ]
  },
  {
   "cell_type": "markdown",
   "id": "a3f0a945",
   "metadata": {},
   "source": [
    "<t>Logistic Regression</t>"
   ]
  },
  {
   "cell_type": "code",
   "execution_count": 31,
   "id": "7884f3cf",
   "metadata": {},
   "outputs": [
    {
     "name": "stdout",
     "output_type": "stream",
     "text": [
      "Logistic Regression Results:\n",
      "Accuracy: 0.9795918367346939\n",
      "F1 Score: 0.9795291449913299\n",
      "\n",
      "Classification Report:\n",
      "               precision    recall  f1-score   support\n",
      "\n",
      "           0       0.97      1.00      0.98        59\n",
      "           1       1.00      0.98      0.99        43\n",
      "           2       0.97      0.95      0.96        38\n",
      "           3       1.00      1.00      1.00         7\n",
      "\n",
      "    accuracy                           0.98       147\n",
      "   macro avg       0.99      0.98      0.98       147\n",
      "weighted avg       0.98      0.98      0.98       147\n",
      "\n"
     ]
    },
    {
     "name": "stderr",
     "output_type": "stream",
     "text": [
      "c:\\Users\\CHERAN T\\AppData\\Local\\Programs\\Python\\Python310\\lib\\site-packages\\sklearn\\linear_model\\_logistic.py:470: ConvergenceWarning: lbfgs failed to converge after 1000 iteration(s) (status=1):\n",
      "STOP: TOTAL NO. OF ITERATIONS REACHED LIMIT\n",
      "\n",
      "Increase the number of iterations to improve the convergence (max_iter=1000).\n",
      "You might also want to scale the data as shown in:\n",
      "    https://scikit-learn.org/stable/modules/preprocessing.html\n",
      "Please also refer to the documentation for alternative solver options:\n",
      "    https://scikit-learn.org/stable/modules/linear_model.html#logistic-regression\n",
      "  n_iter_i = _check_optimize_result(\n"
     ]
    }
   ],
   "source": [
    "from sklearn.linear_model import LogisticRegression\n",
    "\n",
    "# Initialize model\n",
    "lr = LogisticRegression(max_iter=1000, random_state=42)\n",
    "\n",
    "# Train\n",
    "lr.fit(X_train, y_train)\n",
    "\n",
    "# Predict\n",
    "y_pred_lr = lr.predict(X_test)\n",
    "\n",
    "# Evaluate\n",
    "print(\"Logistic Regression Results:\")\n",
    "print(\"Accuracy:\", accuracy_score(y_test, y_pred_lr))\n",
    "print(\"F1 Score:\", f1_score(y_test, y_pred_lr, average='weighted'))\n",
    "print(\"\\nClassification Report:\\n\", classification_report(y_test, y_pred_lr))\n"
   ]
  },
  {
   "cell_type": "markdown",
   "id": "152236da",
   "metadata": {},
   "source": [
    "<t>Support Vector Machine (SVM)</t>"
   ]
  },
  {
   "cell_type": "code",
   "execution_count": 32,
   "id": "eb4d0846",
   "metadata": {},
   "outputs": [
    {
     "name": "stdout",
     "output_type": "stream",
     "text": [
      "SVM Results:\n",
      "Accuracy: 0.4965986394557823\n",
      "F1 Score: 0.38535996216668483\n",
      "\n",
      "Classification Report:\n",
      "               precision    recall  f1-score   support\n",
      "\n",
      "           0       0.45      0.97      0.61        59\n",
      "           1       0.00      0.00      0.00        43\n",
      "           2       0.75      0.24      0.36        38\n",
      "           3       1.00      1.00      1.00         7\n",
      "\n",
      "    accuracy                           0.50       147\n",
      "   macro avg       0.55      0.55      0.49       147\n",
      "weighted avg       0.42      0.50      0.39       147\n",
      "\n"
     ]
    },
    {
     "name": "stderr",
     "output_type": "stream",
     "text": [
      "c:\\Users\\CHERAN T\\AppData\\Local\\Programs\\Python\\Python310\\lib\\site-packages\\sklearn\\metrics\\_classification.py:1706: UndefinedMetricWarning: Precision is ill-defined and being set to 0.0 in labels with no predicted samples. Use `zero_division` parameter to control this behavior.\n",
      "  _warn_prf(average, modifier, f\"{metric.capitalize()} is\", result.shape[0])\n",
      "c:\\Users\\CHERAN T\\AppData\\Local\\Programs\\Python\\Python310\\lib\\site-packages\\sklearn\\metrics\\_classification.py:1706: UndefinedMetricWarning: Precision is ill-defined and being set to 0.0 in labels with no predicted samples. Use `zero_division` parameter to control this behavior.\n",
      "  _warn_prf(average, modifier, f\"{metric.capitalize()} is\", result.shape[0])\n",
      "c:\\Users\\CHERAN T\\AppData\\Local\\Programs\\Python\\Python310\\lib\\site-packages\\sklearn\\metrics\\_classification.py:1706: UndefinedMetricWarning: Precision is ill-defined and being set to 0.0 in labels with no predicted samples. Use `zero_division` parameter to control this behavior.\n",
      "  _warn_prf(average, modifier, f\"{metric.capitalize()} is\", result.shape[0])\n"
     ]
    }
   ],
   "source": [
    "from sklearn.svm import SVC\n",
    "\n",
    "# Initialize model\n",
    "svm = SVC(kernel='rbf', random_state=42)\n",
    "\n",
    "# Train\n",
    "svm.fit(X_train, y_train)\n",
    "\n",
    "# Predict\n",
    "y_pred_svm = svm.predict(X_test)\n",
    "\n",
    "# Evaluate\n",
    "print(\"SVM Results:\")\n",
    "print(\"Accuracy:\", accuracy_score(y_test, y_pred_svm))\n",
    "print(\"F1 Score:\", f1_score(y_test, y_pred_svm, average='weighted'))\n",
    "print(\"\\nClassification Report:\\n\", classification_report(y_test, y_pred_svm))\n"
   ]
  },
  {
   "cell_type": "markdown",
   "id": "7644ec02",
   "metadata": {},
   "source": [
    "<t>k-Nearest Neighbors (k-NN)</t>"
   ]
  },
  {
   "cell_type": "code",
   "execution_count": 33,
   "id": "269d5008",
   "metadata": {},
   "outputs": [
    {
     "name": "stdout",
     "output_type": "stream",
     "text": [
      "k-NN Results:\n",
      "Accuracy: 0.7755102040816326\n",
      "F1 Score: 0.7490079365079365\n",
      "\n",
      "Classification Report:\n",
      "               precision    recall  f1-score   support\n",
      "\n",
      "           0       0.75      0.93      0.83        59\n",
      "           1       0.74      0.91      0.81        43\n",
      "           2       0.93      0.34      0.50        38\n",
      "           3       1.00      1.00      1.00         7\n",
      "\n",
      "    accuracy                           0.78       147\n",
      "   macro avg       0.85      0.80      0.79       147\n",
      "weighted avg       0.81      0.78      0.75       147\n",
      "\n"
     ]
    }
   ],
   "source": [
    "from sklearn.neighbors import KNeighborsClassifier\n",
    "\n",
    "# Initialize model\n",
    "knn = KNeighborsClassifier(n_neighbors=5)\n",
    "\n",
    "# Train\n",
    "knn.fit(X_train, y_train)\n",
    "\n",
    "# Predict\n",
    "y_pred_knn = knn.predict(X_test)\n",
    "\n",
    "# Evaluate\n",
    "print(\"k-NN Results:\")\n",
    "print(\"Accuracy:\", accuracy_score(y_test, y_pred_knn))\n",
    "print(\"F1 Score:\", f1_score(y_test, y_pred_knn, average='weighted'))\n",
    "print(\"\\nClassification Report:\\n\", classification_report(y_test, y_pred_knn))\n"
   ]
  },
  {
   "cell_type": "markdown",
   "id": "6aa8f036",
   "metadata": {},
   "source": [
    "<t>Random Forest</t>"
   ]
  },
  {
   "cell_type": "code",
   "execution_count": 34,
   "id": "da2581ba",
   "metadata": {},
   "outputs": [
    {
     "name": "stdout",
     "output_type": "stream",
     "text": [
      "Random Forest Results:\n",
      "Accuracy: 0.9319727891156463\n",
      "F1 Score: 0.931337358734619\n",
      "\n",
      "Classification Report:\n",
      "               precision    recall  f1-score   support\n",
      "\n",
      "           0       0.93      0.92      0.92        59\n",
      "           1       0.91      1.00      0.96        43\n",
      "           2       0.94      0.87      0.90        38\n",
      "           3       1.00      1.00      1.00         7\n",
      "\n",
      "    accuracy                           0.93       147\n",
      "   macro avg       0.95      0.95      0.95       147\n",
      "weighted avg       0.93      0.93      0.93       147\n",
      "\n"
     ]
    }
   ],
   "source": [
    "from sklearn.ensemble import RandomForestClassifier\n",
    "\n",
    "# Initialize model\n",
    "rf = RandomForestClassifier(n_estimators=100, random_state=42)\n",
    "\n",
    "# Train\n",
    "rf.fit(X_train, y_train)\n",
    "\n",
    "# Predict\n",
    "y_pred_rf = rf.predict(X_test)\n",
    "\n",
    "# Evaluate\n",
    "print(\"Random Forest Results:\")\n",
    "print(\"Accuracy:\", accuracy_score(y_test, y_pred_rf))\n",
    "print(\"F1 Score:\", f1_score(y_test, y_pred_rf, average='weighted'))\n",
    "print(\"\\nClassification Report:\\n\", classification_report(y_test, y_pred_rf))\n"
   ]
  },
  {
   "cell_type": "markdown",
   "id": "f9fe387f",
   "metadata": {},
   "source": [
    "<t>XGBoost</t>"
   ]
  },
  {
   "cell_type": "code",
   "execution_count": 35,
   "id": "80fd56f1",
   "metadata": {},
   "outputs": [
    {
     "name": "stderr",
     "output_type": "stream",
     "text": [
      "c:\\Users\\CHERAN T\\AppData\\Local\\Programs\\Python\\Python310\\lib\\site-packages\\xgboost\\training.py:183: UserWarning: [11:51:43] WARNING: C:\\actions-runner\\_work\\xgboost\\xgboost\\src\\learner.cc:738: \n",
      "Parameters: { \"use_label_encoder\" } are not used.\n",
      "\n",
      "  bst.update(dtrain, iteration=i, fobj=obj)\n"
     ]
    },
    {
     "name": "stdout",
     "output_type": "stream",
     "text": [
      "XGBoost Results:\n",
      "Accuracy: 0.9455782312925171\n",
      "F1 Score: 0.944954445040781\n",
      "\n",
      "Classification Report:\n",
      "               precision    recall  f1-score   support\n",
      "\n",
      "           0       0.93      0.95      0.94        59\n",
      "           1       0.96      1.00      0.98        43\n",
      "           2       0.94      0.87      0.90        38\n",
      "           3       1.00      1.00      1.00         7\n",
      "\n",
      "    accuracy                           0.95       147\n",
      "   macro avg       0.96      0.95      0.96       147\n",
      "weighted avg       0.95      0.95      0.94       147\n",
      "\n"
     ]
    }
   ],
   "source": [
    "from xgboost import XGBClassifier\n",
    "\n",
    "# Initialize model\n",
    "xgb = XGBClassifier(use_label_encoder=False, eval_metric='mlogloss', random_state=42)\n",
    "\n",
    "# Train\n",
    "xgb.fit(X_train, y_train)\n",
    "\n",
    "# Predict\n",
    "y_pred_xgb = xgb.predict(X_test)\n",
    "\n",
    "# Evaluate\n",
    "print(\"XGBoost Results:\")\n",
    "print(\"Accuracy:\", accuracy_score(y_test, y_pred_xgb))\n",
    "print(\"F1 Score:\", f1_score(y_test, y_pred_xgb, average='weighted'))\n",
    "print(\"\\nClassification Report:\\n\", classification_report(y_test, y_pred_xgb))\n"
   ]
  },
  {
   "cell_type": "markdown",
   "id": "e73a417d",
   "metadata": {},
   "source": [
    "<t>comparsion</t>"
   ]
  },
  {
   "cell_type": "code",
   "execution_count": 36,
   "id": "9cf13f19",
   "metadata": {},
   "outputs": [
    {
     "name": "stdout",
     "output_type": "stream",
     "text": [
      "                 Model  Accuracy  F1 Score\n",
      "0  Logistic Regression  0.979592  0.979529\n",
      "4              XGBoost  0.945578  0.944954\n",
      "3        Random Forest  0.931973  0.931337\n",
      "2                 k-NN  0.775510  0.749008\n",
      "1                  SVM  0.496599  0.385360\n"
     ]
    }
   ],
   "source": [
    "results = {\n",
    "    'Model': ['Logistic Regression', 'SVM', 'k-NN', 'Random Forest', 'XGBoost'],\n",
    "    'Accuracy': [\n",
    "        accuracy_score(y_test, y_pred_lr),\n",
    "        accuracy_score(y_test, y_pred_svm),\n",
    "        accuracy_score(y_test, y_pred_knn),\n",
    "        accuracy_score(y_test, y_pred_rf),\n",
    "        accuracy_score(y_test, y_pred_xgb)\n",
    "    ],\n",
    "    'F1 Score': [\n",
    "        f1_score(y_test, y_pred_lr, average='weighted'),\n",
    "        f1_score(y_test, y_pred_svm, average='weighted'),\n",
    "        f1_score(y_test, y_pred_knn, average='weighted'),\n",
    "        f1_score(y_test, y_pred_rf, average='weighted'),\n",
    "        f1_score(y_test, y_pred_xgb, average='weighted')\n",
    "    ]\n",
    "}\n",
    "\n",
    "import pandas as pd\n",
    "results_df = pd.DataFrame(results)\n",
    "print(results_df.sort_values(by='Accuracy', ascending=False))\n"
   ]
  },
  {
   "cell_type": "markdown",
   "id": "e3e2db76",
   "metadata": {},
   "source": [
    "<t>Hyperparameter Tuning for Logistic Regression (GridSearchCV)</t>"
   ]
  },
  {
   "cell_type": "code",
   "execution_count": 39,
   "id": "2ecbe057",
   "metadata": {},
   "outputs": [
    {
     "name": "stdout",
     "output_type": "stream",
     "text": [
      "Best Parameters: {'C': 10, 'penalty': 'l1', 'solver': 'liblinear'}\n",
      "Optimized Model Accuracy: 0.9727891156462585\n",
      "Optimized Model F1 Score: 0.9726343787459143\n",
      "✅ Model saved as best_logistic_regression_model.pkl\n"
     ]
    },
    {
     "name": "stderr",
     "output_type": "stream",
     "text": [
      "c:\\Users\\CHERAN T\\AppData\\Local\\Programs\\Python\\Python310\\lib\\site-packages\\sklearn\\linear_model\\_logistic.py:1288: FutureWarning: Using the 'liblinear' solver for multiclass classification is deprecated. An error will be raised in 1.8. Either use another solver which supports the multinomial loss or wrap the estimator in a OneVsRestClassifier to keep applying a one-versus-rest scheme.\n",
      "  warnings.warn(\n"
     ]
    }
   ],
   "source": [
    "# --- Step 1: Import Libraries ---\n",
    "from sklearn.linear_model import LogisticRegression\n",
    "from sklearn.model_selection import GridSearchCV\n",
    "from sklearn.metrics import accuracy_score, f1_score\n",
    "import joblib\n",
    "\n",
    "# --- Step 2: Define base model ---\n",
    "model = LogisticRegression(max_iter=1000, random_state=42)\n",
    "\n",
    "# --- Step 3: Define parameter grid for tuning ---\n",
    "param_grid = {\n",
    "    'C': [0.01, 0.1, 1, 10],\n",
    "    'penalty': ['l1', 'l2'],\n",
    "    'solver': ['liblinear']\n",
    "}\n",
    "\n",
    "# --- Step 4: Initialize and fit GridSearchCV (✅ ADD YOUR LINE HERE) ---\n",
    "grid_search = GridSearchCV(model, param_grid, cv=5, scoring='accuracy', n_jobs=-1)\n",
    "grid_search.fit(X_train, y_train)\n",
    "\n",
    "# --- Step 5: Extract best model and parameters ---\n",
    "best_model = grid_search.best_estimator_\n",
    "print(\"Best Parameters:\", grid_search.best_params_)\n",
    "\n",
    "# --- Step 6: Evaluate the optimized model on test set ---\n",
    "y_pred = best_model.predict(X_test)\n",
    "print(\"Optimized Model Accuracy:\", accuracy_score(y_test, y_pred))\n",
    "print(\"Optimized Model F1 Score:\", f1_score(y_test, y_pred, average='weighted'))\n",
    "\n",
    "# --- Step 7: Save the best model ---\n",
    "joblib.dump(best_model, 'best_logistic_regression_model.pkl')\n",
    "print(\"✅ Model saved as best_logistic_regression_model.pkl\")\n"
   ]
  },
  {
   "cell_type": "code",
   "execution_count": 40,
   "id": "448a9bdb",
   "metadata": {},
   "outputs": [],
   "source": [
    "import joblib\n",
    "\n",
    "# Save the model\n",
    "joblib.dump(best_model, 'best_logistic_regression_model.pkl')\n",
    "\n",
    "# Load the model later when needed\n",
    "loaded_model = joblib.load('best_logistic_regression_model.pkl')\n",
    "\n",
    "# Example: Predict on new data\n",
    "y_pred = loaded_model.predict(X_test)\n"
   ]
  }
 ],
 "metadata": {
  "kernelspec": {
   "display_name": "Python 3",
   "language": "python",
   "name": "python3"
  },
  "language_info": {
   "codemirror_mode": {
    "name": "ipython",
    "version": 3
   },
   "file_extension": ".py",
   "mimetype": "text/x-python",
   "name": "python",
   "nbconvert_exporter": "python",
   "pygments_lexer": "ipython3",
   "version": "3.10.11"
  }
 },
 "nbformat": 4,
 "nbformat_minor": 5
}
